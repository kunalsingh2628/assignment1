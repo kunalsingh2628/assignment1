{
 "cells": [
  {
   "cell_type": "code",
   "execution_count": null,
   "id": "d97de2aa-bcc7-44d0-aaf6-1e1068046d19",
   "metadata": {},
   "outputs": [],
   "source": [
    "Q-1"
   ]
  },
  {
   "cell_type": "code",
   "execution_count": 1,
   "id": "069913ff-80e1-46bf-87f8-6b29d6fb59c2",
   "metadata": {},
   "outputs": [
    {
     "name": "stdout",
     "output_type": "stream",
     "text": [
      "1\n",
      "2\n",
      "3\n",
      "4\n",
      "5\n"
     ]
    }
   ],
   "source": [
    "##Use a for loop when you know the number of iterations in advance:\n",
    "\n",
    "# Example: Printing numbers from 1 to 5\n",
    "for i in range(1, 6):\n",
    "    print(i)\n",
    "##In this case, a for loop is suitable because we know the exact number of iterations required (from 1 to 5). \n",
    "##The range() function generates a sequence of numbers, and the loop iterates over each number."
   ]
  },
  {
   "cell_type": "code",
   "execution_count": 4,
   "id": "fef67674-204c-4988-84e1-9aa66071044b",
   "metadata": {},
   "outputs": [
    {
     "name": "stdout",
     "output_type": "stream",
     "text": [
      "sum: 104\n"
     ]
    }
   ],
   "source": [
    "##use for while loop\n",
    "##Use a while loop when the number of iterations is uncertain or depends on a condition:\n",
    "#example:\n",
    "total = 2\n",
    "num = 3\n",
    "while total <= 100:\n",
    "    total += num\n",
    "    num += 1\n",
    "print(\"sum:\" ,total)\n",
    "    "
   ]
  },
  {
   "cell_type": "code",
   "execution_count": null,
   "id": "6ce7cca7-b046-4da6-b06e-1c2e2c9f12a2",
   "metadata": {},
   "outputs": [],
   "source": [
    "Q-2"
   ]
  },
  {
   "cell_type": "code",
   "execution_count": 5,
   "id": "6ea835df-743d-4457-b047-7968c402d8be",
   "metadata": {},
   "outputs": [
    {
     "name": "stdout",
     "output_type": "stream",
     "text": [
      "Sum: 55\n",
      "Product: 3628800\n"
     ]
    }
   ],
   "source": [
    "# Using a for loop to calculate the sum and product\n",
    "numbers = range(1, 11)\n",
    "sum_result = 0\n",
    "product_result = 1\n",
    "\n",
    "for num in numbers:\n",
    "    sum_result += num\n",
    "    product_result *= num\n",
    "\n",
    "print(\"Sum:\", sum_result)\n",
    "print(\"Product:\", product_result)\n"
   ]
  },
  {
   "cell_type": "code",
   "execution_count": 6,
   "id": "c3630c3f-aabc-42f1-86f5-6402862a01c1",
   "metadata": {},
   "outputs": [
    {
     "name": "stdout",
     "output_type": "stream",
     "text": [
      "Sum: 55\n",
      "Product: 3628800\n"
     ]
    }
   ],
   "source": [
    "# Using a while loop to calculate the sum and product\n",
    "counter = 1\n",
    "sum_result = 0\n",
    "product_result = 1\n",
    "\n",
    "while counter <= 10:\n",
    "    sum_result += counter\n",
    "    product_result *= counter\n",
    "    counter += 1\n",
    "\n",
    "print(\"Sum:\", sum_result)\n",
    "print(\"Product:\", product_result)\n"
   ]
  },
  {
   "cell_type": "code",
   "execution_count": null,
   "id": "e80ffb90-9575-46e3-86be-89938f4391b3",
   "metadata": {},
   "outputs": [],
   "source": [
    "Q-3"
   ]
  },
  {
   "cell_type": "code",
   "execution_count": 7,
   "id": "00cb29d5-5efd-48d8-9b41-9fb5e5d7a4ae",
   "metadata": {},
   "outputs": [
    {
     "name": "stdin",
     "output_type": "stream",
     "text": [
      "Enter the units of electricity consumed:  234\n"
     ]
    },
    {
     "name": "stdout",
     "output_type": "stream",
     "text": [
      "Total Electricity Bill: Rs. 1390.0\n"
     ]
    }
   ],
   "source": [
    "units_consumed = int(input(\"Enter the units of electricity consumed: \"))\n",
    "\n",
    "total_bill = 0\n",
    "remaining_units = units_consumed\n",
    "\n",
    "# Calculate bill for the first 100 units\n",
    "if remaining_units > 100:\n",
    "    bill_100 = 100 * 4.5\n",
    "    total_bill += bill_100\n",
    "    remaining_units -= 100\n",
    "else:\n",
    "    bill_100 = remaining_units * 4.5\n",
    "    total_bill += bill_100\n",
    "    remaining_units = 0\n",
    "\n",
    "# Calculate bill for the next 100 units\n",
    "if remaining_units > 100:\n",
    "    bill_100_200 = 100 * 6\n",
    "    total_bill += bill_100_200\n",
    "    remaining_units -= 100\n",
    "else:\n",
    "    bill_100_200 = remaining_units * 6\n",
    "    total_bill += bill_100_200\n",
    "    remaining_units = 0\n",
    "\n",
    "# Calculate bill for the next 100 units\n",
    "if remaining_units > 0:\n",
    "    bill_200_300 = remaining_units * 10\n",
    "    total_bill += bill_200_300\n",
    "    remaining_units = 0\n",
    "\n",
    "# Calculate bill for units above 300\n",
    "if remaining_units > 0:\n",
    "    bill_above_300 = remaining_units * 20\n",
    "    total_bill += bill_above_300\n",
    "\n",
    "print(\"Total Electricity Bill: Rs.\", total_bill)\n"
   ]
  },
  {
   "cell_type": "code",
   "execution_count": null,
   "id": "07bcb83d-7de1-4e60-a34a-9521f0efa1d0",
   "metadata": {},
   "outputs": [],
   "source": [
    "Q-4"
   ]
  },
  {
   "cell_type": "code",
   "execution_count": 8,
   "id": "34d9ec4a-3c2f-427f-9bcb-26a5feb285b3",
   "metadata": {},
   "outputs": [
    {
     "name": "stdout",
     "output_type": "stream",
     "text": [
      "[2, 4, 5, 6, 8, 10, 12, 14, 15, 16, 18, 20, 22, 24, 25, 26, 28, 30, 32, 34, 35, 36, 38, 40, 42, 44, 45, 46, 48, 50, 52, 54, 55, 56, 58, 60, 62, 64, 65, 66, 68, 70, 72, 74, 75, 76, 78, 80, 82, 84, 85, 86, 88, 90, 92, 94, 95, 96, 98, 100]\n"
     ]
    }
   ],
   "source": [
    "numbers = list(range(1, 101))\n",
    "cube_divisible_by_4_or_5 = []\n",
    "\n",
    "for num in numbers:\n",
    "    cube = num ** 3\n",
    "    if cube % 4 == 0 or cube % 5 == 0:\n",
    "        cube_divisible_by_4_or_5.append(num)\n",
    "\n",
    "print(cube_divisible_by_4_or_5)\n"
   ]
  },
  {
   "cell_type": "code",
   "execution_count": 10,
   "id": "4b2a50d4-90e7-4319-8707-a26ec5e68033",
   "metadata": {},
   "outputs": [
    {
     "name": "stdout",
     "output_type": "stream",
     "text": [
      "[2, 4, 5, 6, 8, 10, 12, 14, 15, 16, 18, 20, 22, 24, 25, 26, 28, 30, 32, 34, 35, 36, 38, 40, 42, 44, 45, 46, 48, 50, 52, 54, 55, 56, 58, 60, 62, 64, 65, 66, 68, 70, 72, 74, 75, 76, 78, 80, 82, 84, 85, 86, 88, 90, 92, 94, 95, 96, 98, 100]\n"
     ]
    }
   ],
   "source": [
    "##using while loop\n",
    "numbers = list(range(1, 101))\n",
    "cube_divisible_by_4_or_5 = []\n",
    "index = 0\n",
    "\n",
    "while index < len(numbers):\n",
    "    num = numbers[index]\n",
    "    cube = num ** 3\n",
    "    if cube % 4 == 0 or cube % 5 == 0:\n",
    "        cube_divisible_by_4_or_5.append(num)\n",
    "    index += 1\n",
    "\n",
    "print(cube_divisible_by_4_or_5)\n"
   ]
  },
  {
   "cell_type": "code",
   "execution_count": null,
   "id": "f41ddff4-9d7c-43f4-900c-81be1fd2a311",
   "metadata": {},
   "outputs": [],
   "source": [
    "Q-5"
   ]
  },
  {
   "cell_type": "code",
   "execution_count": 11,
   "id": "5c533f12-8ece-47c9-ad25-28d8677a3412",
   "metadata": {},
   "outputs": [
    {
     "name": "stdout",
     "output_type": "stream",
     "text": [
      "Number of vowels: 12\n"
     ]
    }
   ],
   "source": [
    "string = \"I want to become a data scientist\"\n",
    "vowels = \"aeiouAEIOU\"\n",
    "\n",
    "count = 0\n",
    "\n",
    "for char in string:\n",
    "    if char in vowels:\n",
    "        count += 1\n",
    "\n",
    "print(\"Number of vowels:\", count)\n"
   ]
  },
  {
   "cell_type": "code",
   "execution_count": null,
   "id": "90494dbf-ca83-44c2-8c04-f17d90acd876",
   "metadata": {},
   "outputs": [],
   "source": []
  },
  {
   "cell_type": "code",
   "execution_count": null,
   "id": "2e50d35a-73a5-4b82-bc27-06dbbc1e2d1e",
   "metadata": {},
   "outputs": [],
   "source": []
  },
  {
   "cell_type": "code",
   "execution_count": null,
   "id": "133ee546-3301-42a9-97c7-d73f2bf04168",
   "metadata": {},
   "outputs": [],
   "source": []
  },
  {
   "cell_type": "code",
   "execution_count": null,
   "id": "ef7a27e9-2977-406c-9f6e-c233a9c846ce",
   "metadata": {},
   "outputs": [],
   "source": []
  },
  {
   "cell_type": "code",
   "execution_count": null,
   "id": "6a33af8e-8832-46a2-be3c-e1139cf0f2b4",
   "metadata": {},
   "outputs": [],
   "source": []
  },
  {
   "cell_type": "code",
   "execution_count": null,
   "id": "29515221-0558-4eeb-8272-eeb557eae71a",
   "metadata": {},
   "outputs": [],
   "source": []
  },
  {
   "cell_type": "code",
   "execution_count": null,
   "id": "aa4654a3-f639-49f8-914b-39462e560539",
   "metadata": {},
   "outputs": [],
   "source": []
  },
  {
   "cell_type": "code",
   "execution_count": null,
   "id": "d6f595db-2970-4240-ab25-b3c509dbb9e7",
   "metadata": {},
   "outputs": [],
   "source": []
  },
  {
   "cell_type": "code",
   "execution_count": null,
   "id": "34d2fead-605e-4699-9079-a3e06453ef7c",
   "metadata": {},
   "outputs": [],
   "source": []
  },
  {
   "cell_type": "code",
   "execution_count": null,
   "id": "fb6f7362-d6e8-41fd-b11a-c2782519701c",
   "metadata": {},
   "outputs": [],
   "source": []
  }
 ],
 "metadata": {
  "kernelspec": {
   "display_name": "Python 3 (ipykernel)",
   "language": "python",
   "name": "python3"
  },
  "language_info": {
   "codemirror_mode": {
    "name": "ipython",
    "version": 3
   },
   "file_extension": ".py",
   "mimetype": "text/x-python",
   "name": "python",
   "nbconvert_exporter": "python",
   "pygments_lexer": "ipython3",
   "version": "3.10.8"
  }
 },
 "nbformat": 4,
 "nbformat_minor": 5
}
